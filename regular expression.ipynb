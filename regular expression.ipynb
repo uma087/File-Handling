{
 "cells": [
  {
   "cell_type": "markdown",
   "id": "ff6a1686-1f41-4c56-a20c-568d91184460",
   "metadata": {},
   "source": [
    "## findall()"
   ]
  },
  {
   "cell_type": "code",
   "execution_count": 7,
   "id": "5996f521-401b-4d16-b0e0-0dcc3c9ce608",
   "metadata": {},
   "outputs": [],
   "source": [
    "import re"
   ]
  },
  {
   "cell_type": "code",
   "execution_count": 19,
   "id": "319b336c-3368-4c48-8d03-3705517332b0",
   "metadata": {},
   "outputs": [
    {
     "name": "stdout",
     "output_type": "stream",
     "text": [
      "not starts upper case character\n"
     ]
    }
   ],
   "source": [
    "### check whether sting strts with upper case character\n",
    "s = \"welcome to python\"\n",
    "path = re.findall(\"^[A-Z]\",s)\n",
    "if path:\n",
    "     print(\"starts the upper case character\")\n",
    "else:\n",
    "    print(\"not starts upper case character\")\n",
    "    "
   ]
  },
  {
   "cell_type": "code",
   "execution_count": 3,
   "id": "c990abdc-7d9f-4ea5-9cde-8dc96f80ef62",
   "metadata": {},
   "outputs": [],
   "source": [
    "import re"
   ]
  },
  {
   "cell_type": "code",
   "execution_count": 4,
   "id": "efd9b066-b100-4d77-bffb-2096ba78c175",
   "metadata": {},
   "outputs": [
    {
     "name": "stdout",
     "output_type": "stream",
     "text": [
      "['hoo', 'ho']\n"
     ]
    }
   ],
   "source": [
    "data = \"hoo planet ho\"\n",
    "d = re.findall(\"h.?o\",data)\n",
    "print(d)"
   ]
  },
  {
   "cell_type": "code",
   "execution_count": 6,
   "id": "c997287e-511b-4458-a094-525ac3e8d504",
   "metadata": {},
   "outputs": [
    {
     "name": "stdout",
     "output_type": "stream",
     "text": [
      "['hello']\n"
     ]
    }
   ],
   "source": [
    "data = \"helloooo planet\"\n",
    "d = re.findall(\"h.{4}\",data)\n",
    "print(d)"
   ]
  },
  {
   "cell_type": "markdown",
   "id": "55c3ffa5-6f10-4fb1-a098-74d28627a656",
   "metadata": {},
   "source": [
    "## search()  start,span,string"
   ]
  },
  {
   "cell_type": "code",
   "execution_count": 20,
   "id": "c68127a4-543d-462b-a44d-c27c377d7819",
   "metadata": {},
   "outputs": [
    {
     "name": "stdout",
     "output_type": "stream",
     "text": [
      "1\n",
      "(1, 2)\n",
      "welcome to python\n"
     ]
    }
   ],
   "source": [
    "s=\"welcome to python\"\n",
    "s1 = re.search(\"e\",s)\n",
    "print(s1.start())\n",
    "print(s1.span())\n",
    "print(s1.string)"
   ]
  },
  {
   "cell_type": "code",
   "execution_count": 11,
   "id": "abb4e6b3-b3b2-4c0a-b276-fd6b5aa36e4a",
   "metadata": {},
   "outputs": [
    {
     "name": "stdout",
     "output_type": "stream",
     "text": [
      "['welcome', 'to', 'python']\n"
     ]
    }
   ],
   "source": [
    "## split() space\n",
    "s=\"welcome to python\"\n",
    "d = re.split(\" \",s)\n",
    "print(d)"
   ]
  },
  {
   "cell_type": "code",
   "execution_count": 15,
   "id": "3a8ac8f2-7be7-471e-8ce5-74156057eee3",
   "metadata": {},
   "outputs": [
    {
     "name": "stdout",
     "output_type": "stream",
     "text": [
      "wElcomE\n",
      "welcome\n"
     ]
    }
   ],
   "source": [
    "## sub() replacement\n",
    "s = \"welcome\"\n",
    "new_data = re.sub(\"e\",\"E\",s)\n",
    "print(new_data)\n",
    "print(s)"
   ]
  },
  {
   "cell_type": "code",
   "execution_count": null,
   "id": "53642792-4928-429b-806d-c5cd90adc9e6",
   "metadata": {},
   "outputs": [],
   "source": []
  }
 ],
 "metadata": {
  "kernelspec": {
   "display_name": "Python [conda env:base] *",
   "language": "python",
   "name": "conda-base-py"
  },
  "language_info": {
   "codemirror_mode": {
    "name": "ipython",
    "version": 3
   },
   "file_extension": ".py",
   "mimetype": "text/x-python",
   "name": "python",
   "nbconvert_exporter": "python",
   "pygments_lexer": "ipython3",
   "version": "3.13.5"
  }
 },
 "nbformat": 4,
 "nbformat_minor": 5
}
