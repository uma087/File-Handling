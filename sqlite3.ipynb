{
 "cells": [
  {
   "cell_type": "code",
   "execution_count": 8,
   "id": "499b1dcb-5129-4203-9925-78a5ddd1efd6",
   "metadata": {},
   "outputs": [],
   "source": [
    "import sqlite3"
   ]
  },
  {
   "cell_type": "code",
   "execution_count": 11,
   "id": "0834fe80-5d3d-4ad7-8749-3f8475521c1c",
   "metadata": {},
   "outputs": [
    {
     "name": "stdout",
     "output_type": "stream",
     "text": [
      "Database connected successfully!!!!\n"
     ]
    }
   ],
   "source": [
    "conn = sqlite3.connect(\"C:\\\\Users\\\\DELL\\\\Desktop\\\\DBMS\\\\DS_DB.sqlite\")\n",
    "cursor = conn.cursor()\n",
    "conn.close()\n",
    "print(\"Database connected successfully!!!!\")"
   ]
  },
  {
   "cell_type": "code",
   "execution_count": 2,
   "id": "d894188e-2a53-46e9-a40a-f9459fe06753",
   "metadata": {},
   "outputs": [],
   "source": [
    "import sqlite3"
   ]
  },
  {
   "cell_type": "code",
   "execution_count": 3,
   "id": "d9784ace-e761-4f5e-9d94-073659a6eaa3",
   "metadata": {},
   "outputs": [
    {
     "name": "stdout",
     "output_type": "stream",
     "text": [
      "Table is created successfully!!!..\n"
     ]
    }
   ],
   "source": [
    "conn = sqlite3.connect(\"C:\\\\Users\\\\DELL\\\\Desktop\\\\DBMS\\\\DS_DB.sqlite\")\n",
    "cursor = conn.cursor()\n",
    "cursor.execute(\"CREATE TABLE STUDENTS(NAME TEXT NOT NULL,AGE INT NOT NULL,COURSE TEXT NOT NULL,ADDRESS CHAR(70))\")\n",
    "conn.close()\n",
    "print(\"Table is created successfully!!!..\")"
   ]
  },
  {
   "cell_type": "code",
   "execution_count": 7,
   "id": "fc6d8932-66f2-4f26-9d6b-ce524fc8da3d",
   "metadata": {},
   "outputs": [
    {
     "name": "stdout",
     "output_type": "stream",
     "text": [
      "Inserted data successfully!!!...\n"
     ]
    }
   ],
   "source": [
    "## insert data into table\n",
    "conn = sqlite3.connect(\"C:\\\\Users\\\\DELL\\\\Desktop\\\\DBMS\\\\DS_DB.sqlite\")\n",
    "cursor = conn.cursor()\n",
    "cursor.execute(\"INSERT INTO STUDENTS VALUES('UMA',21,'PYTHON','BANGLORE')\")\n",
    "conn.commit()\n",
    "conn.close()\n",
    "print(\"Inserted data successfully!!!...\")"
   ]
  },
  {
   "cell_type": "code",
   "execution_count": 6,
   "id": "491181a8-ca17-47cd-9a76-ee8ac76af24d",
   "metadata": {},
   "outputs": [],
   "source": [
    "import sqlite3"
   ]
  },
  {
   "cell_type": "code",
   "execution_count": 8,
   "id": "9403e88e-f829-4ebf-9a76-9a1cb4ed5355",
   "metadata": {},
   "outputs": [
    {
     "name": "stdout",
     "output_type": "stream",
     "text": [
      "Inserted 2 records successfully!!!...\n"
     ]
    }
   ],
   "source": [
    "## insert data into table\n",
    "conn = sqlite3.connect(\"C:\\\\Users\\\\DELL\\\\Desktop\\\\DBMS\\\\DS_DB.sqlite\")\n",
    "cursor = conn.cursor()\n",
    "cursor.execute(\"INSERT INTO STUDENTS VALUES('SAI',21,'PYTHON','GOA'),('HARI',34,'C','VELLORE')\")\n",
    "conn.commit()\n",
    "conn.close()\n",
    "print(\"Inserted 2 records successfully!!!...\")"
   ]
  },
  {
   "cell_type": "code",
   "execution_count": 9,
   "id": "ab82d8fd-96a2-47c8-9a1d-4848f6a76f6a",
   "metadata": {},
   "outputs": [
    {
     "name": "stdout",
     "output_type": "stream",
     "text": [
      "('AMMU', 21, 'PYTHON', 'BANGLORE')\n",
      "('UMA', 21, 'PYTHON', 'BANGLORE')\n",
      "('SAI', 21, 'PYTHON', 'GOA')\n",
      "('HARI', 34, 'C', 'VELLORE')\n",
      "('UMA', 21, 'PYTHON', 'BANGLORE')\n"
     ]
    }
   ],
   "source": [
    "### retrive data from the table-select\n",
    "conn = sqlite3.connect(\"C:\\\\Users\\\\DELL\\\\Desktop\\\\DBMS\\\\DS_DB.sqlite\")\n",
    "cursor = conn.cursor()\n",
    "data = cursor.execute(\"SELECT * FROM STUDENTS\")\n",
    "for row in data:\n",
    "    print(row)\n",
    "conn.close()"
   ]
  },
  {
   "cell_type": "code",
   "execution_count": 10,
   "id": "cb5960fb-a0c0-4bc1-abbf-b12595ac40cd",
   "metadata": {},
   "outputs": [
    {
     "name": "stdout",
     "output_type": "stream",
     "text": [
      "[('AMMU', 21, 'PYTHON', 'BANGLORE'), ('UMA', 21, 'PYTHON', 'BANGLORE'), ('SAI', 21, 'PYTHON', 'GOA'), ('HARI', 34, 'C', 'VELLORE'), ('UMA', 21, 'PYTHON', 'BANGLORE')]\n"
     ]
    }
   ],
   "source": [
    "##fetchall() -all data giving the output\n",
    "conn = sqlite3.connect(\"C:\\\\Users\\\\DELL\\\\Desktop\\\\DBMS\\\\DS_DB.sqlite\")\n",
    "cursor = conn.cursor()\n",
    "data = cursor.execute(\"SELECT * FROM STUDENTS\").fetchall()\n",
    "print(data)\n",
    "conn.close()"
   ]
  },
  {
   "cell_type": "code",
   "execution_count": 11,
   "id": "459bb100-3210-45a2-98ba-5d8554b76499",
   "metadata": {},
   "outputs": [
    {
     "name": "stdout",
     "output_type": "stream",
     "text": [
      "[(21, 'BANGLORE'), (21, 'BANGLORE'), (21, 'GOA'), (34, 'VELLORE'), (21, 'BANGLORE')]\n"
     ]
    }
   ],
   "source": [
    "## using fetchall for the data to select the particular topics\n",
    "conn = sqlite3.connect(\"C:\\\\Users\\\\DELL\\\\Desktop\\\\DBMS\\\\DS_DB.sqlite\")\n",
    "cursor = conn.cursor()\n",
    "data = cursor.execute(\"SELECT AGE,ADDRESS FROM STUDENTS\").fetchall()\n",
    "print(data)\n",
    "conn.close()"
   ]
  },
  {
   "cell_type": "code",
   "execution_count": 13,
   "id": "2dcb25e1-6ed7-42da-960e-b507d2e75600",
   "metadata": {},
   "outputs": [
    {
     "name": "stdout",
     "output_type": "stream",
     "text": [
      "(21, 'BANGLORE')\n",
      "(21, 'BANGLORE')\n",
      "(21, 'GOA')\n",
      "(34, 'VELLORE')\n",
      "(21, 'BANGLORE')\n"
     ]
    }
   ],
   "source": [
    "##using not fetchall()\n",
    "conn = sqlite3.connect(\"C:\\\\Users\\\\DELL\\\\Desktop\\\\DBMS\\\\DS_DB.sqlite\")\n",
    "cursor = conn.cursor()\n",
    "data = cursor.execute(\"SELECT AGE,ADDRESS FROM STUDENTS\")\n",
    "for row in data:\n",
    "   print(row)\n",
    "conn.close()"
   ]
  },
  {
   "cell_type": "code",
   "execution_count": 3,
   "id": "a3ca35e8-b4f1-4e98-837f-374a07401cc2",
   "metadata": {},
   "outputs": [],
   "source": [
    "import sqlite3"
   ]
  },
  {
   "cell_type": "code",
   "execution_count": 4,
   "id": "045671a3-ec4b-4255-995d-038474e31c46",
   "metadata": {},
   "outputs": [
    {
     "name": "stdout",
     "output_type": "stream",
     "text": [
      "UPDATED RECORD SUCCESSFULLY\n"
     ]
    }
   ],
   "source": [
    "##updated values into the tables for swipping\n",
    "conn = sqlite3.connect(\"C:\\\\Users\\\\DELL\\\\Desktop\\\\DBMS\\\\DS_DB.sqlite\")\n",
    "cursor = conn.cursor()\n",
    "cursor.execute(\"UPDATE STUDENTS SET COURSE='JAVA' WHERE NAME='UMA'\")\n",
    "conn.commit()\n",
    "conn.close()\n",
    "print(\"UPDATED RECORD SUCCESSFULLY\")"
   ]
  },
  {
   "cell_type": "code",
   "execution_count": 6,
   "id": "8b405345-91cb-4c7d-b675-4907b76aeb01",
   "metadata": {},
   "outputs": [
    {
     "name": "stdout",
     "output_type": "stream",
     "text": [
      "UPDATED RECORD SUCCESSFULLY\n"
     ]
    }
   ],
   "source": [
    "conn = sqlite3.connect(\"C:\\\\Users\\\\DELL\\\\Desktop\\\\DBMS\\\\DS_DB.sqlite\")\n",
    "cursor = conn.cursor()\n",
    "cursor.execute(\"UPDATE STUDENTS SET COURSE='PYTHON' WHERE NAME='UMA'\")\n",
    "conn.commit()\n",
    "conn.close()\n",
    "print(\"UPDATED RECORD SUCCESSFULLY\")"
   ]
  },
  {
   "cell_type": "code",
   "execution_count": 8,
   "id": "0594a73a-b8f1-4dd9-b485-9dfd40b8c521",
   "metadata": {},
   "outputs": [
    {
     "name": "stdout",
     "output_type": "stream",
     "text": [
      "('AMMU', 21, 'PYTHON', 'BANGLORE')\n",
      "('UMA', 21, 'PYTHON', 'BANGLORE')\n",
      "('SAI', 21, 'PYTHON', 'GOA')\n",
      "('UMA', 21, 'PYTHON', 'BANGLORE')\n"
     ]
    }
   ],
   "source": [
    "# retrive rows with courses where as python-select\n",
    "conn = sqlite3.connect(\"C:\\\\Users\\\\DELL\\\\Desktop\\\\DBMS\\\\DS_DB.sqlite\")\n",
    "cursor = conn.cursor()\n",
    "data = cursor.execute(\"SELECT * FROM STUDENTS WHERE COURSE=='PYTHON'\")\n",
    "for row in data:\n",
    "    print(row)\n",
    "conn.close()"
   ]
  },
  {
   "cell_type": "code",
   "execution_count": 9,
   "id": "8b660b54-7e1b-4118-86a2-d8f267ef1888",
   "metadata": {},
   "outputs": [
    {
     "name": "stdout",
     "output_type": "stream",
     "text": [
      "[('AMMU', 21, 'PYTHON', 'BANGLORE'), ('UMA', 21, 'PYTHON', 'BANGLORE'), ('SAI', 21, 'PYTHON', 'GOA'), ('UMA', 21, 'PYTHON', 'BANGLORE')]\n"
     ]
    }
   ],
   "source": [
    "#retrive rows with courses where as python using fetchall-select\n",
    "conn = sqlite3.connect(\"C:\\\\Users\\\\DELL\\\\Desktop\\\\DBMS\\\\DS_DB.sqlite\")\n",
    "cursor = conn.cursor()\n",
    "data = cursor.execute(\"SELECT * FROM STUDENTS WHERE COURSE=='PYTHON'\").fetchall()\n",
    "print(data)\n",
    "conn.close()"
   ]
  },
  {
   "cell_type": "code",
   "execution_count": 10,
   "id": "8a53adef-693e-47a1-a3e3-1c6f1f6c0fec",
   "metadata": {},
   "outputs": [
    {
     "name": "stdout",
     "output_type": "stream",
     "text": [
      "Delete the rows successfully...!!!\n"
     ]
    }
   ],
   "source": [
    "## delete all rows but not tables-delete\n",
    "conn = sqlite3.connect(\"C:\\\\Users\\\\DELL\\\\Desktop\\\\DBMS\\\\DS_DB.sqlite\")\n",
    "cursor = conn.cursor()\n",
    "cursor.execute(\"DELETE FROM STUDENTS\")\n",
    "conn.commit()\n",
    "conn.close()\n",
    "print(\"Delete the rows successfully...!!!\")"
   ]
  },
  {
   "cell_type": "code",
   "execution_count": 1,
   "id": "4cad0f89-eab7-47cd-bab5-469b043134a5",
   "metadata": {},
   "outputs": [],
   "source": [
    "import sqlite3"
   ]
  },
  {
   "cell_type": "code",
   "execution_count": 4,
   "id": "2f6ff6d5-2412-42f4-a52f-2bbb93155c8c",
   "metadata": {},
   "outputs": [
    {
     "name": "stdin",
     "output_type": "stream",
     "text": [
      "enter Name: mani\n",
      "enter age: 21\n",
      "enter course: java\n",
      "enter address: blr\n"
     ]
    },
    {
     "name": "stdout",
     "output_type": "stream",
     "text": [
      "Inserted data successfully\n"
     ]
    }
   ],
   "source": [
    "###using the\n",
    "conn = sqlite3.connect(\"C:\\\\Users\\\\DELL\\\\Desktop\\\\DBMS\\\\DS_DB.sqlite\")\n",
    "cursor = conn.cursor()\n",
    "name = input(\"enter Name:\")\n",
    "age = int(input(\"enter age:\"))\n",
    "course = input(\"enter course:\")\n",
    "address = input(\"enter address:\")\n",
    "cursor.execute(\"INSERT INTO STUDENTS(NAME,AGE,COURSE,ADDRESS) VALUES(?,?,?,?)\",(name,age,course,address))\n",
    "conn.commit()\n",
    "conn.close()\n",
    "print(\"Inserted data successfully\")"
   ]
  },
  {
   "cell_type": "code",
   "execution_count": 5,
   "id": "1301def5-f052-45a8-a521-8aacebd9e2bd",
   "metadata": {},
   "outputs": [
    {
     "name": "stdout",
     "output_type": "stream",
     "text": [
      "Inserted 2 records successfully!!!...\n"
     ]
    }
   ],
   "source": [
    "## insert data into table\n",
    "conn = sqlite3.connect(\"C:\\\\Users\\\\DELL\\\\Desktop\\\\DBMS\\\\DS_DB.sqlite\")\n",
    "cursor = conn.cursor()\n",
    "cursor.execute(\"INSERT INTO STUDENTS VALUES('SAI',21,'PYTHON','GOA'),('HARI',34,'C','VELLORE')\")\n",
    "conn.commit()\n",
    "conn.close()\n",
    "print(\"Inserted 2 records successfully!!!...\")"
   ]
  },
  {
   "cell_type": "code",
   "execution_count": 16,
   "id": "722abafc-484a-43d7-bc7b-d7fb169e2ad4",
   "metadata": {},
   "outputs": [
    {
     "name": "stdout",
     "output_type": "stream",
     "text": [
      "DELETED SUCCESSFULLY...\n"
     ]
    }
   ],
   "source": [
    "conn = sqlite3.connect(\"C:\\\\Users\\\\DELL\\\\Desktop\\\\DBMS\\\\DS_DB.sqlite\")\n",
    "cursor = conn.cursor()\n",
    "cursor.execute(\"DELETE FROM STUDENTS WHERE ADDRESS=='GOA,VELLORE'\");\n",
    "conn.commit()\n",
    "conn.close()\n",
    "print(\"DELETED SUCCESSFULLY...\")"
   ]
  },
  {
   "cell_type": "code",
   "execution_count": 17,
   "id": "359d2c4a-f2c0-460c-a4db-b1b6c5b735b0",
   "metadata": {},
   "outputs": [
    {
     "name": "stdout",
     "output_type": "stream",
     "text": [
      "[('mani', 21, 'java', 'blr'), ('SAI', 21, 'PYTHON', 'GOA'), ('HARI', 34, 'C', 'VELLORE')]\n"
     ]
    }
   ],
   "source": [
    "conn = sqlite3.connect(\"C:\\\\Users\\\\DELL\\\\Desktop\\\\DBMS\\\\DS_DB.sqlite\")\n",
    "cursor = conn.cursor()\n",
    "data = cursor.execute(\"SELECT * FROM STUDENTS ORDER BY AGE\").fetchall()\n",
    "print(data)\n",
    "conn.close()"
   ]
  },
  {
   "cell_type": "code",
   "execution_count": 19,
   "id": "761ae700-c515-4e54-bbfb-4ad8e17b002b",
   "metadata": {},
   "outputs": [
    {
     "name": "stdout",
     "output_type": "stream",
     "text": [
      "[('HARI', 34, 'C', 'VELLORE'), ('mani', 21, 'java', 'blr'), ('SAI', 21, 'PYTHON', 'GOA')]\n"
     ]
    }
   ],
   "source": [
    "conn = sqlite3.connect(\"C:\\\\Users\\\\DELL\\\\Desktop\\\\DBMS\\\\DS_DB.sqlite\")\n",
    "cursor = conn.cursor()\n",
    "data = cursor.execute(\"SELECT * FROM STUDENTS ORDER BY AGE DESC\").fetchall()\n",
    "print(data)\n",
    "conn.close()"
   ]
  },
  {
   "cell_type": "code",
   "execution_count": 1,
   "id": "3f08b72c-6486-4305-8592-05010157743d",
   "metadata": {},
   "outputs": [],
   "source": [
    "import sqlite3"
   ]
  },
  {
   "cell_type": "code",
   "execution_count": 12,
   "id": "da98ff0f-7189-4899-b7df-f3765cf43943",
   "metadata": {},
   "outputs": [
    {
     "name": "stdout",
     "output_type": "stream",
     "text": [
      "TABLE CREATED SUCCESSFULLY....!!!!\n"
     ]
    }
   ],
   "source": [
    "conn = sqlite3.connect(\"C:\\\\Users\\\\DELL\\\\Desktop\\\\DBMS\\\\DS_DB.sqlite\")\n",
    "cursor = conn.cursor()\n",
    "cursor.execute(\"CREATE TABLE EMPLOYEES(NAME TEXT NOT NULL,AGE TEXT NOT NULL,SALARY TEXT NOT NULL,ID TEXT NOT NULL)\")\n",
    "conn.commit()\n",
    "conn.close()\n",
    "print(\"TABLE CREATED SUCCESSFULLY....!!!!\")"
   ]
  },
  {
   "cell_type": "code",
   "execution_count": null,
   "id": "c551b08f-9dde-46ec-86c9-9676732edc7e",
   "metadata": {},
   "outputs": [],
   "source": []
  }
 ],
 "metadata": {
  "kernelspec": {
   "display_name": "Python [conda env:base] *",
   "language": "python",
   "name": "conda-base-py"
  },
  "language_info": {
   "codemirror_mode": {
    "name": "ipython",
    "version": 3
   },
   "file_extension": ".py",
   "mimetype": "text/x-python",
   "name": "python",
   "nbconvert_exporter": "python",
   "pygments_lexer": "ipython3",
   "version": "3.13.5"
  }
 },
 "nbformat": 4,
 "nbformat_minor": 5
}
