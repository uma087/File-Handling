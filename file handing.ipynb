{
 "cells": [
  {
   "cell_type": "markdown",
   "id": "76b5b254-b45f-4808-88ae-c3a2ef92b898",
   "metadata": {},
   "source": [
    "### file handling"
   ]
  },
  {
   "cell_type": "code",
   "execution_count": 3,
   "id": "65a80345-8a92-4346-849a-38f7a327eb4a",
   "metadata": {},
   "outputs": [],
   "source": [
    "import os\n",
    "os.chdir(\"C:\\\\Users\\\\DELL\\\\Desktop\\\\New folder\")"
   ]
  },
  {
   "cell_type": "code",
   "execution_count": 5,
   "id": "494021d6-441f-40d8-a823-bc5a3ee5e9c6",
   "metadata": {},
   "outputs": [],
   "source": [
    "import os\n",
    "def create_file(filename):\n",
    "    \"\"\"Create an empty file\"\"\"\n",
    "    open(demo.txt,\"w\").close()\n",
    "    print(f\"File {filename} created\")\n",
    "def write_to_file(filename,content):\n",
    "    \"\"\"Write content to a file(overwrites)\"\"\"\n",
    "    with open(filename,\"w\") as file:\n",
    "        file.write(content)\n",
    "    print(f\"Wrote to {filename}\")\n",
    "def append_to_file(filename,content):\n",
    "    \"\"\"Append content to a file\"\"\"\n",
    "    with open(filename,\"a\") as file:\n",
    "        file.write(content)\n",
    "    print(f\"Appended to {filename}\")\n",
    "def rename_file(filename,new_file):\n",
    "    \"\"\"Rename a file\"\"\"\n",
    "    if os.path.exists(filename):\n",
    "        os.rename(filename,new_file)\n",
    "        print(f\"Renamed {filename} to {new_file}\")\n",
    "    else:\n",
    "        print(f\"File {filename} not found\")\n",
    "def delete_file(filename):\n",
    "    \"\"\"Delete a file\"\"\"\n",
    "    if os.path.exists(filename):\n",
    "        os.remove(filename)\n",
    "        print(f\"Deleted {filename}\")\n",
    "    else:\n",
    "        print(f\"{filename} not found\")"
   ]
  },
  {
   "cell_type": "code",
   "execution_count": 6,
   "id": "1488b690-c46f-4dae-b64c-1a935664d63f",
   "metadata": {},
   "outputs": [],
   "source": [
    "os.rename(\"demo.txt\",\"demo12.txt\")"
   ]
  },
  {
   "cell_type": "code",
   "execution_count": 10,
   "id": "6310aa60-49b6-46c7-a34e-48aed1ea9953",
   "metadata": {},
   "outputs": [
    {
     "name": "stdout",
     "output_type": "stream",
     "text": [
      "['DirEntry', 'EX_OK', 'F_OK', 'GenericAlias', 'Mapping', 'MutableMapping', 'O_APPEND', 'O_BINARY', 'O_CREAT', 'O_EXCL', 'O_NOINHERIT', 'O_RANDOM', 'O_RDONLY', 'O_RDWR', 'O_SEQUENTIAL', 'O_SHORT_LIVED', 'O_TEMPORARY', 'O_TEXT', 'O_TRUNC', 'O_WRONLY', 'P_DETACH', 'P_NOWAIT', 'P_NOWAITO', 'P_OVERLAY', 'P_WAIT', 'PathLike', 'R_OK', 'SEEK_CUR', 'SEEK_END', 'SEEK_SET', 'TMP_MAX', 'W_OK', 'X_OK', '_AddedDllDirectory', '_Environ', '__all__', '__builtins__', '__cached__', '__doc__', '__file__', '__loader__', '__name__', '__package__', '__spec__', '_check_methods', '_execvpe', '_exists', '_exit', '_fspath', '_get_exports_list', '_walk_symlinks_as_files', '_wrap_close', 'abc', 'abort', 'access', 'add_dll_directory', 'altsep', 'chdir', 'chmod', 'close', 'closerange', 'cpu_count', 'curdir', 'defpath', 'device_encoding', 'devnull', 'dup', 'dup2', 'environ', 'error', 'execl', 'execle', 'execlp', 'execlpe', 'execv', 'execve', 'execvp', 'execvpe', 'extsep', 'fchmod', 'fdopen', 'fsdecode', 'fsencode', 'fspath', 'fstat', 'fsync', 'ftruncate', 'get_blocking', 'get_exec_path', 'get_handle_inheritable', 'get_inheritable', 'get_terminal_size', 'getcwd', 'getcwdb', 'getenv', 'getlogin', 'getpid', 'getppid', 'isatty', 'kill', 'lchmod', 'linesep', 'link', 'listdir', 'listdrives', 'listmounts', 'listvolumes', 'lseek', 'lstat', 'makedirs', 'mkdir', 'name', 'open', 'pardir', 'path', 'pathsep', 'pipe', 'popen', 'process_cpu_count', 'putenv', 'read', 'readlink', 'remove', 'removedirs', 'rename', 'renames', 'replace', 'rmdir', 'scandir', 'sep', 'set_blocking', 'set_handle_inheritable', 'set_inheritable', 'spawnl', 'spawnle', 'spawnv', 'spawnve', 'st', 'startfile', 'stat', 'stat_result', 'statvfs_result', 'strerror', 'supports_bytes_environ', 'supports_dir_fd', 'supports_effective_ids', 'supports_fd', 'supports_follow_symlinks', 'symlink', 'sys', 'system', 'terminal_size', 'times', 'times_result', 'truncate', 'umask', 'uname_result', 'unlink', 'unsetenv', 'urandom', 'utime', 'waitpid', 'waitstatus_to_exitcode', 'walk', 'write']\n"
     ]
    }
   ],
   "source": [
    "print(dir(os))"
   ]
  },
  {
   "cell_type": "markdown",
   "id": "b00547e6-0c18-4a3e-b6e8-55cb70c80dbf",
   "metadata": {},
   "source": [
    "## math module"
   ]
  },
  {
   "cell_type": "code",
   "execution_count": 12,
   "id": "3e37792e-f5a4-4396-a503-e4f2af6fe699",
   "metadata": {},
   "outputs": [
    {
     "name": "stdout",
     "output_type": "stream",
     "text": [
      "['__doc__', '__loader__', '__name__', '__package__', '__spec__', 'acos', 'acosh', 'asin', 'asinh', 'atan', 'atan2', 'atanh', 'cbrt', 'ceil', 'comb', 'copysign', 'cos', 'cosh', 'degrees', 'dist', 'e', 'erf', 'erfc', 'exp', 'exp2', 'expm1', 'fabs', 'factorial', 'floor', 'fma', 'fmod', 'frexp', 'fsum', 'gamma', 'gcd', 'hypot', 'inf', 'isclose', 'isfinite', 'isinf', 'isnan', 'isqrt', 'lcm', 'ldexp', 'lgamma', 'log', 'log10', 'log1p', 'log2', 'modf', 'nan', 'nextafter', 'perm', 'pi', 'pow', 'prod', 'radians', 'remainder', 'sin', 'sinh', 'sqrt', 'sumprod', 'tan', 'tanh', 'tau', 'trunc', 'ulp']\n"
     ]
    }
   ],
   "source": [
    "import math\n",
    "print(dir(math))"
   ]
  },
  {
   "cell_type": "markdown",
   "id": "4a64e015-7889-43c6-97de-8db490dea6e3",
   "metadata": {},
   "source": [
    "### ceil() "
   ]
  },
  {
   "cell_type": "code",
   "execution_count": 3,
   "id": "357ddb63-dabb-41f1-bc59-1e4d67ded55c",
   "metadata": {},
   "outputs": [
    {
     "name": "stdin",
     "output_type": "stream",
     "text": [
      "enter the n value: 34.78\n"
     ]
    },
    {
     "name": "stdout",
     "output_type": "stream",
     "text": [
      "35\n"
     ]
    }
   ],
   "source": [
    "import math\n",
    "n=float(input('enter the n value:'))\n",
    "print(math.ceil(n))"
   ]
  },
  {
   "cell_type": "code",
   "execution_count": 5,
   "id": "9860eb83-26a4-4212-84a9-640ae7059f32",
   "metadata": {},
   "outputs": [
    {
     "name": "stdin",
     "output_type": "stream",
     "text": [
      "enter the n value: 56.78\n"
     ]
    },
    {
     "name": "stdout",
     "output_type": "stream",
     "text": [
      "56.8\n"
     ]
    }
   ],
   "source": [
    "n=float(input('enter the n value:'))\n",
    "print(round(n,1))"
   ]
  },
  {
   "cell_type": "markdown",
   "id": "20985180-d84e-4ecf-827c-0ec58806f64e",
   "metadata": {},
   "source": [
    "### factorial fn"
   ]
  },
  {
   "cell_type": "code",
   "execution_count": 10,
   "id": "6a0d51ec-d51a-46ce-be24-c4862778e133",
   "metadata": {},
   "outputs": [
    {
     "name": "stdin",
     "output_type": "stream",
     "text": [
      "enter the n value: 10\n"
     ]
    },
    {
     "name": "stdout",
     "output_type": "stream",
     "text": [
      "3628800\n"
     ]
    }
   ],
   "source": [
    "import math\n",
    "n=int(input('enter the n value:'))\n",
    "print(math.factorial(n))"
   ]
  },
  {
   "cell_type": "code",
   "execution_count": 11,
   "id": "c9aebbd2-c278-4b36-b2ed-c2b8c7c278f2",
   "metadata": {},
   "outputs": [
    {
     "name": "stdin",
     "output_type": "stream",
     "text": [
      "enter the n value: 56\n"
     ]
    },
    {
     "name": "stdout",
     "output_type": "stream",
     "text": [
      "2.091659496012996e+24\n"
     ]
    }
   ],
   "source": [
    "### exp() exponaliation\n",
    "n=int(input('enter the n value:'))                    ### recursion fn using assignment\n",
    "print(math.exp(n))"
   ]
  },
  {
   "cell_type": "code",
   "execution_count": 14,
   "id": "b6ea66c6-1bfb-4f9f-92f9-0c282c9799e6",
   "metadata": {},
   "outputs": [
    {
     "name": "stdin",
     "output_type": "stream",
     "text": [
      "enter the base value: 4\n",
      "enter the power value: 5\n"
     ]
    }
   ],
   "source": [
    "## recursion() using\n",
    "def exp(a,b):\n",
    "    if b == 0:\n",
    "        return 1\n",
    "    else:\n",
    "        return n * exp(a,b-1)\n",
    "a = int(input('enter the base value:'))\n",
    "b = int(input('enter the power value:'))"
   ]
  },
  {
   "cell_type": "code",
   "execution_count": null,
   "id": "0a407d53-d855-4dc9-a3f4-1dea05cae48a",
   "metadata": {},
   "outputs": [],
   "source": []
  }
 ],
 "metadata": {
  "kernelspec": {
   "display_name": "Python [conda env:base] *",
   "language": "python",
   "name": "conda-base-py"
  },
  "language_info": {
   "codemirror_mode": {
    "name": "ipython",
    "version": 3
   },
   "file_extension": ".py",
   "mimetype": "text/x-python",
   "name": "python",
   "nbconvert_exporter": "python",
   "pygments_lexer": "ipython3",
   "version": "3.13.5"
  }
 },
 "nbformat": 4,
 "nbformat_minor": 5
}
