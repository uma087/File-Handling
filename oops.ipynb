{
 "cells": [
  {
   "cell_type": "markdown",
   "id": "4921e1c3-eeb6-4172-87cf-37ad67f016b5",
   "metadata": {},
   "source": [
    "#### OOPs "
   ]
  },
  {
   "cell_type": "markdown",
   "id": "09821ad6-1022-4749-8918-3c7f04c9ce10",
   "metadata": {},
   "source": [
    "- it is a combination of properties and functions\n",
    "- used with two main division\n",
    "- they are 1.class 2.object"
   ]
  },
  {
   "cell_type": "markdown",
   "id": "ca42cb5d-0907-48b5-8eaa-3ce72cf3b1d8",
   "metadata": {},
   "source": [
    "\n",
    "1.class\n",
    "-blue print of an object(like self,self naming)\n",
    "-logical entity\n",
    "-collection of properties.\n",
    "2.object\n",
    "-instance of a class\n",
    "-phyical entity\n",
    "-collection of properties"
   ]
  },
  {
   "cell_type": "markdown",
   "id": "1ff3f451-e33f-48f1-b4d1-daab61cbdd5a",
   "metadata": {},
   "source": [
    "class syntax: \n",
    "    class class_name:....(self is a implict instance)"
   ]
  },
  {
   "cell_type": "code",
   "execution_count": 23,
   "id": "d1317ec2-9ff4-469b-aa7d-c0c3003751c4",
   "metadata": {},
   "outputs": [
    {
     "name": "stdout",
     "output_type": "stream",
     "text": [
      "<__main__.mobile object at 0x000001D722B23770>\n",
      "iphone\n",
      "pink\n",
      "15inches\n"
     ]
    }
   ],
   "source": [
    "class mobile:\n",
    "     name = \"iphone\"\n",
    "     color = \"pink\"\n",
    "     size = \"15inches\"\n",
    "     def calling(selfname):\n",
    "        print(\"calling someone\")\n",
    "s = mobile()\n",
    "print(s)\n",
    "print(s.name)\n",
    "print(s.color)\n",
    "print(s.size)\n"
   ]
  },
  {
   "cell_type": "code",
   "execution_count": 29,
   "id": "55ee195d-95f2-4346-a03a-59b26e4afa13",
   "metadata": {},
   "outputs": [
    {
     "name": "stdout",
     "output_type": "stream",
     "text": [
      "<__main__.mobile object at 0x000001D726641940>\n",
      "iphone\n",
      "pink\n",
      "15inches\n",
      "calling to someone raju\n",
      "messaging\n"
     ]
    }
   ],
   "source": [
    "class mobile:\n",
    "     name = \"iphone\"\n",
    "     color = \"pink\"\n",
    "     size = \"15inches\"\n",
    "     def calling(self,frnd):\n",
    "        print(\"calling to someone\",frnd)\n",
    "     def messaging(a):\n",
    "        print(\"messaging\")\n",
    "m1 = mobile()\n",
    "print(m1)\n",
    "print(m1.name)\n",
    "print(m1.color)\n",
    "print(m1.size)\n",
    "m1.calling(\"raju\")\n",
    "m1.messaging()"
   ]
  },
  {
   "cell_type": "markdown",
   "id": "de0ab43e-fea3-4705-8ae8-4795339f5ed2",
   "metadata": {},
   "source": [
    "# another type is inside the oops\n"
   ]
  },
  {
   "cell_type": "markdown",
   "id": "b51ff192-724f-483a-b3fe-57bb8128adcb",
   "metadata": {},
   "source": [
    "## __init__()"
   ]
  },
  {
   "cell_type": "code",
   "execution_count": 30,
   "id": "2bee3429-311d-4e8d-b3b0-cdc59c6867ee",
   "metadata": {},
   "outputs": [
    {
     "name": "stdout",
     "output_type": "stream",
     "text": [
      "honda\n",
      "red\n",
      "disel\n",
      "ready to run the car\n",
      "stop the car\n"
     ]
    }
   ],
   "source": [
    "class car:\n",
    "    def __init__(self,name,color,fueltype):\n",
    "        self.name = name\n",
    "        self.color = color\n",
    "        self.fueltype = fueltype\n",
    "    def engine(self):\n",
    "        print(\"ready to run the car\")\n",
    "    def breake(self):\n",
    "        print(\"stop the car\")\n",
    "c1 = car(\"honda\",\"red\",\"disel\")\n",
    "print(c1.name)\n",
    "print(c1.color) \n",
    "print(c1.fueltype) \n",
    "c1.engine()\n",
    "c1.breake()"
   ]
  },
  {
   "cell_type": "markdown",
   "id": "7e063aed-b9b8-48cb-907a-6d36eeade759",
   "metadata": {},
   "source": [
    "## types"
   ]
  },
  {
   "cell_type": "markdown",
   "id": "9960f2c3-d615-45a8-949f-11ceb1fdb51b",
   "metadata": {},
   "source": [
    "-class\n",
    "-object\n",
    "-inheritance\n",
    "-encapsulation\n",
    "-polymorphism\n",
    "-abstraction"
   ]
  },
  {
   "cell_type": "markdown",
   "id": "8eef727f-38cc-45e8-9a6e-66fccb1e563e",
   "metadata": {},
   "source": [
    "## Inheritance"
   ]
  },
  {
   "cell_type": "code",
   "execution_count": null,
   "id": "053f608b-4854-4f4a-a3a2-53c6be247c8e",
   "metadata": {},
   "outputs": [],
   "source": [
    "child class acquries the properties and functions of its class and parent class.\n",
    "4 types \n",
    " 1. single inheritance(excatly two classes)#parent(super/base class) child(sub/derived class)\n",
    " 2.multi-level inheritance(more than two classes)#parent parent child like(grandfather,father,son)\n",
    " 3.hirarachical inheritance(more than two classes)#parent more child classes\n",
    " 4.multiple inheritance(more than two classes)#parents child like (mother father son)"
   ]
  },
  {
   "cell_type": "code",
   "execution_count": 40,
   "id": "58b45ec4-0712-4f8f-b016-40611ca97871",
   "metadata": {},
   "outputs": [
    {
     "name": "stdout",
     "output_type": "stream",
     "text": [
      "Son Name:bharath\n",
      "Son Age:18\n",
      "he loves to study..\n",
      "------------------------------------------------------------\n",
      "Father Name:srinivasan\n",
      "Father Age:50\n",
      "he is working with best painting busines\n"
     ]
    }
   ],
   "source": [
    "#1.single inheritance\n",
    "class father():   #parent/super/base class\n",
    "    fname = \"srinivasan\"\n",
    "    fage = 50\n",
    "    def work(self,business):\n",
    "        print(\"he is working with best\",business)\n",
    "class son(father):     #child/sub/derived class\n",
    "    sname = \"bharath\"\n",
    "    sage = 18\n",
    "    def study(father):\n",
    "        print(\"he loves to study..\")\n",
    "s1 = son()\n",
    "print(f\"Son Name:{s1.sname}\\nSon Age:{s1.sage}\")\n",
    "s1.study()\n",
    "print(\"------------------------------------------------------------\")\n",
    "print(f\"Father Name:{s1.fname}\\nFather Age:{s1.fage}\")\n",
    "s1.work(\"painting busines\")"
   ]
  },
  {
   "cell_type": "code",
   "execution_count": 51,
   "id": "e0b31ea0-8c37-4c09-9d37-bcc36a1eb2aa",
   "metadata": {},
   "outputs": [
    {
     "name": "stdout",
     "output_type": "stream",
     "text": [
      "Daughter Name:uma\n",
      "Daughter Age:21\n",
      "she loves to  learning python\n",
      "............................................................\n",
      "Father Name:srinivasan\n",
      "Father Age:50\n",
      "he is working with  painting business\n",
      ".............................................................\n",
      "Gfather Name:raman\n",
      "Gfather Age:67\n",
      "he is a  farmer\n"
     ]
    }
   ],
   "source": [
    "#2.multi-level inheritance(more than two classes)\n",
    "class gfather():    #parent class\n",
    "    gfathername = \"raman\"\n",
    "    gfatherage = 67\n",
    "    def rest(self,rest):\n",
    "        print(\"he is a \",rest)\n",
    "class father(gfather):   #parent/child class\n",
    "    fname = \"srinivasan\"\n",
    "    fage = 50\n",
    "    def work(self,business):\n",
    "        print(\"he is working with \",business)\n",
    "class daughter(father):  #child class\n",
    "    dname = \"uma\"\n",
    "    dage = 21\n",
    "    def study(self,study):\n",
    "        print(\"she loves to \",study)\n",
    "ad = daughter()\n",
    "print(f\"Daughter Name:{ad.dname}\\nDaughter Age:{ad.dage}\")\n",
    "ad.study(\"learning python\")\n",
    "print(\"............................................................\")\n",
    "\n",
    "print(f\"Father Name:{ad.fname}\\nFather Age:{ad.fage}\")\n",
    "ad.work(\"painting business\")\n",
    "print(\".............................................................\")\n",
    "\n",
    "print(f\"Gfather Name:{ad.gfathername}\\nGfather Age:{ad.gfatherage}\")\n",
    "ad.rest(\"farmer\")"
   ]
  },
  {
   "cell_type": "code",
   "execution_count": 55,
   "id": "bc8dac50-de2c-486a-88d5-fdcb09796a22",
   "metadata": {},
   "outputs": [
    {
     "name": "stdout",
     "output_type": "stream",
     "text": [
      "Son Name:bharath\n",
      "Son Age:18\n",
      "he loves to ece studying\n",
      "__________________________________________________________\n",
      "Daughter Name:uma\n",
      "Daughter Age:21\n",
      "she loves to leaning python\n",
      "___________________________________________________________\n",
      "Father Name:srinivasan\n",
      "Father Age:50\n",
      "he is working with painting business\n"
     ]
    }
   ],
   "source": [
    "#3.hirarachical inheritance\n",
    "class father():    #parent class\n",
    "    fname = \"srinivasan\"\n",
    "    fage = 50\n",
    "    def work(self,business):\n",
    "        print(\"he is working with\",business)\n",
    "class daughter(father):   #child 1 class\n",
    "    dname = \"uma\"\n",
    "    dage = 21\n",
    "    def study1(self,study1):\n",
    "        print(\"she loves to\",study1)\n",
    "class son(father):   #child 2 class\n",
    "    sname = \"bharath\"\n",
    "    sage = 18\n",
    "    def study2(self,study2):\n",
    "        print(\"he loves to\",study2)\n",
    "s1=son()\n",
    "d1=daughter()\n",
    "print(f\"Son Name:{s1.sname}\\nSon Age:{s1.sage}\")\n",
    "s1.study2(\"ece studying\")\n",
    "print(\"__________________________________________________________\")\n",
    "print(f\"Daughter Name:{d1.dname}\\nDaughter Age:{d1.dage}\")\n",
    "d1.study1(\"leaning python\")\n",
    "print(\"___________________________________________________________\")\n",
    "print(f\"Father Name:{d1.fname}\\nFather Age:{d1.fage}\")\n",
    "d1.work(\"painting business\")"
   ]
  },
  {
   "cell_type": "code",
   "execution_count": 57,
   "id": "ad83cdf4-e031-4d93-8fb3-6300e8308ff4",
   "metadata": {},
   "outputs": [
    {
     "name": "stdout",
     "output_type": "stream",
     "text": [
      "Son Name:bharath\n",
      "Son Age:18\n",
      "he loves to ece studying\n",
      ",,,,,,,,,,,,,,,,,,,,,,,,,,,,,,,,,,,,,,,,,,\n",
      "Father Name:srinivasan\n",
      "Father Age:50\n",
      "he is working with painting business\n",
      ",,,,,,,,,,,,,,,,,,,,,,,,,,,,,,,,,,,,,,,,,,,\n",
      "Mother Name:subbulakshmi\n",
      "Mother Age:38\n",
      "she is a house wife\n"
     ]
    }
   ],
   "source": [
    "#4.multiple inheritance\n",
    "class mother():\n",
    "    mname = \"subbulakshmi\"\n",
    "    mage = 38\n",
    "    def work1(self,business1):\n",
    "        print(\"she is a\",business1)\n",
    "class father():\n",
    "    fname = \"srinivasan\"\n",
    "    fage = 50\n",
    "    def work2(self,business2):\n",
    "        print(\"he is working with\",business2)\n",
    "class son(mother,father):\n",
    "    sname = \"bharath\"\n",
    "    sage = 18\n",
    "    def study(self,study):\n",
    "        print(\"he loves to\",study)\n",
    "a=son()\n",
    "print(f\"Son Name:{a.sname}\\nSon Age:{a.sage}\")\n",
    "a.study(\"ece studying\")\n",
    "print(\",,,,,,,,,,,,,,,,,,,,,,,,,,,,,,,,,,,,,,,,,,\")\n",
    "print(f\"Father Name:{a.fname}\\nFather Age:{a.fage}\")\n",
    "a.work2(\"painting business\")\n",
    "print(\",,,,,,,,,,,,,,,,,,,,,,,,,,,,,,,,,,,,,,,,,,,\")\n",
    "print(f\"Mother Name:{a.mname}\\nMother Age:{a.mage}\")\n",
    "a.work1(\"house wife\")"
   ]
  },
  {
   "cell_type": "markdown",
   "id": "a4bef9d4-d13e-48e9-918e-a68607be3382",
   "metadata": {},
   "source": [
    "### polymorphism"
   ]
  },
  {
   "cell_type": "markdown",
   "id": "4233b9ec-4740-4f2d-8ded-73ac0bc13e89",
   "metadata": {},
   "source": [
    "-this is refer string data type ,function concept for operator,method overloading."
   ]
  },
  {
   "cell_type": "markdown",
   "id": "016d136b-06a3-4794-a2d0-24b62b238d92",
   "metadata": {},
   "source": [
    "### method overriding"
   ]
  },
  {
   "cell_type": "code",
   "execution_count": 58,
   "id": "9dead3f5-1b86-478e-a72c-68e7103faed5",
   "metadata": {},
   "outputs": [
    {
     "name": "stdout",
     "output_type": "stream",
     "text": [
      "Uses a TVS bicycles\n",
      "Uses a R15 bike\n"
     ]
    }
   ],
   "source": [
    "class father:\n",
    "    def transport(self):\n",
    "        print(\"Uses a TVS bicycles\")\n",
    "class son:\n",
    "    def transport(self):\n",
    "        print(\"Uses a R15 bike\")\n",
    "f1=father()\n",
    "f1.transport()\n",
    "s1=son()\n",
    "s1.transport()"
   ]
  },
  {
   "cell_type": "code",
   "execution_count": 59,
   "id": "5980d902-db07-4cf2-a0f0-2cfbda7f185f",
   "metadata": {},
   "outputs": [
    {
     "name": "stdout",
     "output_type": "stream",
     "text": [
      "uses a bike\n",
      "uses a bike\n"
     ]
    }
   ],
   "source": [
    "class father:\n",
    "    def transport(self):\n",
    "        print(\"uses a bicycle\")\n",
    "class son(father):\n",
    "    def transport(self):\n",
    "        print(\"uses a bike\")\n",
    "ss1=son()\n",
    "ss1.transport()  #son function\n",
    "ss1.transport()   #father function\n"
   ]
  },
  {
   "cell_type": "markdown",
   "id": "d6031986-9bd1-4014-9a18-dde95887c399",
   "metadata": {},
   "source": [
    "### encapsulation"
   ]
  },
  {
   "cell_type": "code",
   "execution_count": null,
   "id": "d8cac359-a218-49da-aadd-8bbe2576ea54",
   "metadata": {},
   "outputs": [],
   "source": []
  }
 ],
 "metadata": {
  "kernelspec": {
   "display_name": "Python [conda env:base] *",
   "language": "python",
   "name": "conda-base-py"
  },
  "language_info": {
   "codemirror_mode": {
    "name": "ipython",
    "version": 3
   },
   "file_extension": ".py",
   "mimetype": "text/x-python",
   "name": "python",
   "nbconvert_exporter": "python",
   "pygments_lexer": "ipython3",
   "version": "3.13.5"
  }
 },
 "nbformat": 4,
 "nbformat_minor": 5
}
