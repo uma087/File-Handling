{
 "cells": [
  {
   "cell_type": "markdown",
   "id": "9aeb3a13-9462-4099-b190-bfb5c8b47735",
   "metadata": {},
   "source": [
    "### 1.WAP TO PRINT SERIES 3 6 9 12 15 18 21 24 27 30 USING \"WHILE\" LOOP"
   ]
  },
  {
   "cell_type": "code",
   "execution_count": 3,
   "id": "eb24e08a-c2d2-45c5-9896-f3e73feee96d",
   "metadata": {},
   "outputs": [
    {
     "name": "stdout",
     "output_type": "stream",
     "text": [
      "3 6 9 12 15 18 21 24 27 30 "
     ]
    }
   ],
   "source": [
    "n = 3\n",
    "while n<31:\n",
    "    print(n,end= \" \")\n",
    "    n += 3"
   ]
  },
  {
   "cell_type": "code",
   "execution_count": 4,
   "id": "62d30b13-c6e7-45bd-ab10-ec531ce2c4b5",
   "metadata": {},
   "outputs": [
    {
     "name": "stdout",
     "output_type": "stream",
     "text": [
      "3\n",
      "6\n",
      "9\n",
      "12\n",
      "15\n",
      "18\n",
      "21\n",
      "24\n",
      "27\n",
      "30\n"
     ]
    }
   ],
   "source": [
    "n = 3\n",
    "while n<31:\n",
    "    print(n)\n",
    "    n += 3"
   ]
  },
  {
   "cell_type": "markdown",
   "id": "86ffab81-f6d3-4520-a393-d0012122bd19",
   "metadata": {},
   "source": [
    "### 2.WAP TO PRINT SERIES 10 20 30 40 50 60 70 80 90 100 USING \"WHILE\" LOOP"
   ]
  },
  {
   "cell_type": "code",
   "execution_count": 5,
   "id": "ba70418d-dd09-4819-b4b3-f0837c7e800e",
   "metadata": {},
   "outputs": [
    {
     "name": "stdout",
     "output_type": "stream",
     "text": [
      "10 20 30 40 50 60 70 80 90 100 "
     ]
    }
   ],
   "source": [
    "n = 10\n",
    "while n<101:\n",
    "    print(n,end=\" \")\n",
    "    n += 10"
   ]
  },
  {
   "cell_type": "markdown",
   "id": "3a0282dd-1783-4eee-a9dc-f0a6937deddd",
   "metadata": {},
   "source": [
    "### 3.WAP TO PRINT FIRST 10 EVEN NATURAL NUMBERS  IN TUPLE FORMAT USING RANGE()"
   ]
  },
  {
   "cell_type": "code",
   "execution_count": 4,
   "id": "711ce3ba-45d5-4d90-92cb-5f9bc4e179bd",
   "metadata": {},
   "outputs": [
    {
     "name": "stdout",
     "output_type": "stream",
     "text": [
      "2\n",
      "4\n",
      "6\n",
      "8\n",
      "10\n",
      "12\n",
      "14\n",
      "16\n",
      "18\n",
      "20\n"
     ]
    }
   ],
   "source": [
    "for i in range(2,22,2):\n",
    "    print(i)"
   ]
  },
  {
   "cell_type": "code",
   "execution_count": 9,
   "id": "3c0603fd-6ff9-43c8-9b97-3fcde2dd99d4",
   "metadata": {},
   "outputs": [
    {
     "name": "stdout",
     "output_type": "stream",
     "text": [
      "2 4 6 8 10 12 14 16 18 20 "
     ]
    }
   ],
   "source": [
    "for i in range(2,21,2):\n",
    "    print(i,end=\" \")"
   ]
  },
  {
   "cell_type": "code",
   "execution_count": 2,
   "id": "a2c96572-2687-4b54-a340-7eba342d8f9d",
   "metadata": {},
   "outputs": [
    {
     "name": "stdout",
     "output_type": "stream",
     "text": [
      "(2, 4, 6, 8, 10, 12, 14, 16, 18, 20)\n"
     ]
    }
   ],
   "source": [
    "number = tuple(range(2,22,2))\n",
    "print(number)"
   ]
  },
  {
   "cell_type": "markdown",
   "id": "4a478bf1-760f-49dd-a403-3a07bd2310c1",
   "metadata": {},
   "source": [
    "### 4.WAP TO PRINT SERIES 5 10 15 20 25 30 35 40 USING \"for\" LOOP & RANGE()"
   ]
  },
  {
   "cell_type": "code",
   "execution_count": 11,
   "id": "1c965491-fe07-40db-b4aa-2539262426d5",
   "metadata": {},
   "outputs": [
    {
     "name": "stdout",
     "output_type": "stream",
     "text": [
      "5\n",
      "10\n",
      "15\n",
      "20\n",
      "25\n",
      "30\n",
      "35\n",
      "40\n"
     ]
    }
   ],
   "source": [
    "for i in range(5,45,5):\n",
    "    print(i)"
   ]
  },
  {
   "cell_type": "code",
   "execution_count": 12,
   "id": "e163f0de-2f65-4c93-bf5c-5fd45f2c7b96",
   "metadata": {},
   "outputs": [
    {
     "name": "stdout",
     "output_type": "stream",
     "text": [
      "5 10 15 20 25 30 35 40 "
     ]
    }
   ],
   "source": [
    "for i in range(5,41,5):\n",
    "    print(i,end=\" \")"
   ]
  },
  {
   "cell_type": "markdown",
   "id": "01edd2c3-63c7-41ef-8ba5-9acf37fdd8a7",
   "metadata": {},
   "source": [
    "### 5.WAP TO PRINT SERIES 20 18 16 14 12 10 8 6 4 2 USING \"for\" LOOP & RANGE()"
   ]
  },
  {
   "cell_type": "code",
   "execution_count": 13,
   "id": "03767f8f-fea3-4b37-9fd4-5893fc1d358e",
   "metadata": {},
   "outputs": [
    {
     "name": "stdout",
     "output_type": "stream",
     "text": [
      "20\n",
      "18\n",
      "16\n",
      "14\n",
      "12\n",
      "10\n",
      "8\n",
      "6\n",
      "4\n",
      "2\n"
     ]
    }
   ],
   "source": [
    "for i in range(20,0,-2):\n",
    "    print(i)"
   ]
  },
  {
   "cell_type": "code",
   "execution_count": 14,
   "id": "3d6212e4-ec1d-4e05-849c-f5073c1a7cfc",
   "metadata": {},
   "outputs": [
    {
     "name": "stdout",
     "output_type": "stream",
     "text": [
      "20 18 16 14 12 10 8 6 4 2 "
     ]
    }
   ],
   "source": [
    "for i in range(20,0,-2):\n",
    "    print(i,end=\" \")"
   ]
  },
  {
   "cell_type": "code",
   "execution_count": null,
   "id": "ddb0cac3-9551-4b71-a62b-b494632a0acd",
   "metadata": {},
   "outputs": [],
   "source": []
  }
 ],
 "metadata": {
  "kernelspec": {
   "display_name": "Python [conda env:base] *",
   "language": "python",
   "name": "conda-base-py"
  },
  "language_info": {
   "codemirror_mode": {
    "name": "ipython",
    "version": 3
   },
   "file_extension": ".py",
   "mimetype": "text/x-python",
   "name": "python",
   "nbconvert_exporter": "python",
   "pygments_lexer": "ipython3",
   "version": "3.13.5"
  }
 },
 "nbformat": 4,
 "nbformat_minor": 5
}
