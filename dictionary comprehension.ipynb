{
 "cells": [
  {
   "cell_type": "raw",
   "id": "e6e513e9-33e6-4ada-84df-64cb2b864693",
   "metadata": {},
   "source": [
    "The dictionary comprehension is like list comprehension python allows dictionary comprehensions.We can create dictionaries using simple expressions.\n",
    "A dictionary comprehension takes the form {key:value for (key,value) in iterable}\n",
    "\n",
    "Here we have two lists named keys and value and we iterating over them with the help of zip() function."
   ]
  },
  {
   "cell_type": "code",
   "execution_count": null,
   "id": "2d69355c-02ac-40b4-bbc0-a67a7314ff3d",
   "metadata": {},
   "outputs": [],
   "source": []
  }
 ],
 "metadata": {
  "kernelspec": {
   "display_name": "Python [conda env:base] *",
   "language": "python",
   "name": "conda-base-py"
  },
  "language_info": {
   "codemirror_mode": {
    "name": "ipython",
    "version": 3
   },
   "file_extension": ".py",
   "mimetype": "text/x-python",
   "name": "python",
   "nbconvert_exporter": "python",
   "pygments_lexer": "ipython3",
   "version": "3.13.5"
  }
 },
 "nbformat": 4,
 "nbformat_minor": 5
}
