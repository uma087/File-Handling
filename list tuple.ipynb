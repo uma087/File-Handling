{
 "cells": [
  {
   "cell_type": "code",
   "execution_count": 3,
   "id": "23fff1ea-0bdd-4aab-b306-7624b5e68027",
   "metadata": {},
   "outputs": [
    {
     "name": "stdout",
     "output_type": "stream",
     "text": [
      "2\n",
      "4\n"
     ]
    }
   ],
   "source": [
    "i = 2\n",
    "while i <= 10:\n",
    "    if i == 6:\n",
    "      break\n",
    "    print(i)\n",
    "    i += 2"
   ]
  },
  {
   "cell_type": "code",
   "execution_count": 4,
   "id": "dfb57abd-8426-4e26-8465-a0972af99a5e",
   "metadata": {},
   "outputs": [
    {
     "name": "stdout",
     "output_type": "stream",
     "text": [
      "1\n",
      "2\n",
      "3\n",
      "4\n",
      "5\n"
     ]
    }
   ],
   "source": [
    "i = 1\n",
    "while i <= 10:\n",
    "    if i == 6:\n",
    "      break\n",
    "    print(i)\n",
    "    i += 1"
   ]
  },
  {
   "cell_type": "markdown",
   "id": "7cc80324-093f-43dc-b189-e8a6d472226c",
   "metadata": {},
   "source": [
    "### for adding data\n",
    "#### append()\n",
    "#### extend()\n",
    "#### insert()"
   ]
  },
  {
   "cell_type": "code",
   "execution_count": 3,
   "id": "407173db-1d0a-4155-bed4-ef6290d25591",
   "metadata": {},
   "outputs": [
    {
     "name": "stdout",
     "output_type": "stream",
     "text": [
      "original: ['ravi', 101, 23, 'python', 'banglore']\n",
      "after adding: ['ravi', 101, 23, 'python', 'banglore', '345.00']\n"
     ]
    }
   ],
   "source": [
    "### append()\n",
    "a = ['ravi',101,23,'python','banglore']\n",
    "print('original:',a)\n",
    "a.append('345.00')\n",
    "print('after adding:',a)"
   ]
  },
  {
   "cell_type": "code",
   "execution_count": 5,
   "id": "8fc6b427-63da-4172-b1fd-40322754e6ab",
   "metadata": {},
   "outputs": [
    {
     "name": "stdout",
     "output_type": "stream",
     "text": [
      "original: ['ravi', 101, 23, 'python', 'banglore']\n",
      "after adding: ['ravi', 101, 23, 'python', 'banglore', 'bablu', 104]\n"
     ]
    }
   ],
   "source": [
    "## extend()\n",
    "a1 = ['ravi',101,23,'python','banglore']\n",
    "print('original:',a1)\n",
    "a1.extend(['bablu',104])\n",
    "print('after adding:',a1)"
   ]
  },
  {
   "cell_type": "code",
   "execution_count": 14,
   "id": "600291ca-ff97-4a78-bfcc-72593a92419f",
   "metadata": {},
   "outputs": [
    {
     "name": "stdout",
     "output_type": "stream",
     "text": [
      "original: ['ravi', 101, 23, 'python', 'banglore']\n",
      "after inserting: ['ravi', 101, 23, 'ravi', 'python', 'banglore']\n"
     ]
    }
   ],
   "source": [
    "## insert(index)\n",
    "a2 = ['ravi',101,23,'python','banglore']\n",
    "print('original:',a2)\n",
    "a2.insert(3,'ravi')\n",
    "print('after inserting:',a2)"
   ]
  },
  {
   "cell_type": "markdown",
   "id": "140b0f94-997b-4e69-835c-1b17d34291a2",
   "metadata": {},
   "source": [
    "### for delete data"
   ]
  },
  {
   "cell_type": "markdown",
   "id": "d627ddcb-fd6d-4300-aa63-13791a0e5b60",
   "metadata": {},
   "source": [
    "#### pop()\n",
    "#### pop(index)\n",
    "#### remove(value)\n",
    "#### clear()"
   ]
  },
  {
   "cell_type": "code",
   "execution_count": 15,
   "id": "3b4e3786-4758-4028-82f2-b8784cfb5392",
   "metadata": {},
   "outputs": [
    {
     "name": "stdout",
     "output_type": "stream",
     "text": [
      "original: ['ravi', 101, 23, 'python', 'banglore', '345.00']\n",
      "after deleting: ['ravi', 101, 23, 'python', 'banglore']\n"
     ]
    }
   ],
   "source": [
    "### pop()\n",
    "print('original:',a)\n",
    "a.pop()\n",
    "print('after deleting:',a)"
   ]
  },
  {
   "cell_type": "code",
   "execution_count": 16,
   "id": "f0010a83-45c3-4ceb-96fd-ceb78f663141",
   "metadata": {},
   "outputs": [
    {
     "name": "stdout",
     "output_type": "stream",
     "text": [
      "original: ['ravi', 101, 23, 'python', 'banglore']\n",
      "after deleting: ['ravi', 101, 'python', 'banglore']\n"
     ]
    }
   ],
   "source": [
    "### pop(index)\n",
    "print('original:',a)\n",
    "a.pop(2)\n",
    "print('after deleting:',a)"
   ]
  },
  {
   "cell_type": "code",
   "execution_count": 18,
   "id": "3126023e-84a5-43cc-9966-2cf4ed06a3e4",
   "metadata": {},
   "outputs": [
    {
     "name": "stdout",
     "output_type": "stream",
     "text": [
      "original: ['ravi', 101, 'python', 'banglore']\n",
      "after removing: [101, 'python', 'banglore']\n"
     ]
    }
   ],
   "source": [
    "### remove(value)\n",
    "print('original:',a)\n",
    "a.remove('ravi')\n",
    "print('after removing:',a)"
   ]
  },
  {
   "cell_type": "code",
   "execution_count": 21,
   "id": "b0ca88fa-7de8-408b-9870-96810efe8931",
   "metadata": {},
   "outputs": [
    {
     "name": "stdout",
     "output_type": "stream",
     "text": [
      "original: ['ravi', 101, 23, 'python', 'banglore', 'bablu', 104]\n",
      "after clearing: []\n"
     ]
    }
   ],
   "source": [
    "### clear()\n",
    "print('original:',a1)\n",
    "a1.clear()\n",
    "print('after clearing:',a1)"
   ]
  },
  {
   "cell_type": "markdown",
   "id": "a6966d94-2e82-4cd2-b26a-8381e95ada3c",
   "metadata": {},
   "source": [
    "### keyword to delete a value "
   ]
  },
  {
   "cell_type": "markdown",
   "id": "254af240-82f6-4076-bf74-d0961178ffc5",
   "metadata": {},
   "source": [
    "#### del()\n",
    "#### del(index)\n",
    "#### del(startindex:stopindex:stepindex)\n"
   ]
  },
  {
   "cell_type": "code",
   "execution_count": 26,
   "id": "63f85e17-1921-4933-9f11-d9172fe27f6f",
   "metadata": {},
   "outputs": [
    {
     "name": "stdout",
     "output_type": "stream",
     "text": [
      "original: ['uma', 'mani', 101]\n"
     ]
    },
    {
     "ename": "NameError",
     "evalue": "name 'l' is not defined",
     "output_type": "error",
     "traceback": [
      "\u001b[1;31m---------------------------------------------------------------------------\u001b[0m",
      "\u001b[1;31mNameError\u001b[0m                                 Traceback (most recent call last)",
      "Cell \u001b[1;32mIn[26], line 5\u001b[0m\n\u001b[0;32m      3\u001b[0m \u001b[38;5;28mprint\u001b[39m(\u001b[38;5;124m'\u001b[39m\u001b[38;5;124moriginal:\u001b[39m\u001b[38;5;124m'\u001b[39m,l)\n\u001b[0;32m      4\u001b[0m \u001b[38;5;28;01mdel\u001b[39;00m l\n\u001b[1;32m----> 5\u001b[0m \u001b[38;5;28mprint\u001b[39m(\u001b[38;5;124m'\u001b[39m\u001b[38;5;124mafter deleting:\u001b[39m\u001b[38;5;124m'\u001b[39m,l)\n",
      "\u001b[1;31mNameError\u001b[0m: name 'l' is not defined"
     ]
    }
   ],
   "source": [
    "## del()\n",
    "l = ['uma','mani',101]\n",
    "print('original:',l)\n",
    "del l\n",
    "print('after deleting:',l)"
   ]
  },
  {
   "cell_type": "code",
   "execution_count": 29,
   "id": "3948aeaa-352f-4571-9903-4e53288fc49c",
   "metadata": {},
   "outputs": [
    {
     "name": "stdout",
     "output_type": "stream",
     "text": [
      "original: ['ravi', 101, 23, 'python', 'banglore']\n",
      "after deleting: ['ravi', 23, 'python', 'banglore']\n"
     ]
    }
   ],
   "source": [
    "## del(index)\n",
    "l1 = ['ravi',101,23,'python','banglore']\n",
    "print('original:',l1)\n",
    "del l1[1]\n",
    "print('after deleting:',l1)"
   ]
  },
  {
   "cell_type": "code",
   "execution_count": 31,
   "id": "6ddb541d-2055-4cf0-bf88-2bbfa2d4a8e3",
   "metadata": {},
   "outputs": [
    {
     "name": "stdout",
     "output_type": "stream",
     "text": [
      "['ravi', 101, 23, 'python', 'banglore']\n",
      "['ravi', 'banglore']\n"
     ]
    }
   ],
   "source": [
    "### del(startindex:stopindex:stepindex)\n",
    "l1 = ['ravi',101,23,'python','banglore']\n",
    "print(l1)\n",
    "del l1[1:4]\n",
    "print(l1)"
   ]
  },
  {
   "cell_type": "code",
   "execution_count": 32,
   "id": "e834325f-9d86-4032-a002-c7d563cf867c",
   "metadata": {},
   "outputs": [
    {
     "name": "stdout",
     "output_type": "stream",
     "text": [
      "['ravi', 101, 23, 'python', 'banglore']\n",
      "[]\n"
     ]
    }
   ],
   "source": [
    "l1 = ['ravi',101,23,'python','banglore']\n",
    "print(l1)\n",
    "del l1[0:]\n",
    "print(l1)"
   ]
  },
  {
   "cell_type": "code",
   "execution_count": 33,
   "id": "4141c1c5-c2ae-4117-8ad2-bba70463537c",
   "metadata": {},
   "outputs": [
    {
     "name": "stdout",
     "output_type": "stream",
     "text": [
      "['ravi', 101, 23, 'python', 'banglore']\n",
      "[]\n"
     ]
    }
   ],
   "source": [
    "l1 = ['ravi',101,23,'python','banglore']\n",
    "print(l1)\n",
    "del l1[::]\n",
    "print(l1)"
   ]
  },
  {
   "cell_type": "code",
   "execution_count": 34,
   "id": "501fd5fe-61ce-4a38-880c-b44c50dddd13",
   "metadata": {},
   "outputs": [
    {
     "name": "stdout",
     "output_type": "stream",
     "text": [
      "['ravi', 101, 23, 'python', 'banglore']\n",
      "[101, 'python']\n"
     ]
    }
   ],
   "source": [
    "l1 = ['ravi',101,23,'python','banglore']\n",
    "print(l1)\n",
    "del l1[::2]\n",
    "print(l1)"
   ]
  },
  {
   "cell_type": "markdown",
   "id": "1a4d53ba-24bb-477f-be1c-9fe90a9e768e",
   "metadata": {},
   "source": [
    "### list comphersion"
   ]
  },
  {
   "cell_type": "markdown",
   "id": "8d056241-bd3c-41b9-8a16-31e2abdcde1b",
   "metadata": {},
   "source": [
    "##### this is two types 1.expression for v_n in range()\n",
    "##### 2.expression for v_n in range() using if condition"
   ]
  },
  {
   "cell_type": "code",
   "execution_count": 40,
   "id": "c7c134c8-5c7f-428f-9f79-58f953462ccd",
   "metadata": {},
   "outputs": [
    {
     "name": "stdout",
     "output_type": "stream",
     "text": [
      "['kiwi']\n"
     ]
    }
   ],
   "source": [
    "## 1.\n",
    "fruits = ['apple','orange','kiwi','mango']\n",
    "newlist = []\n",
    "for x in fruits:\n",
    "    if 'i' in x:\n",
    "        newlist.append(x)\n",
    "print(newlist)"
   ]
  },
  {
   "cell_type": "code",
   "execution_count": 41,
   "id": "3e5db3b5-3dad-454a-8a24-d0ea496661fa",
   "metadata": {},
   "outputs": [
    {
     "name": "stdout",
     "output_type": "stream",
     "text": [
      "['raju', 'chandru', 'rosy', 101, 23]\n"
     ]
    }
   ],
   "source": [
    "l1 = ['raju','chandru','rosy',101,23]\n",
    "nl1 = []\n",
    "for x in l1:\n",
    "    if x in l1:\n",
    "        nl1.append(x)\n",
    "print(nl1)"
   ]
  },
  {
   "cell_type": "code",
   "execution_count": 42,
   "id": "587ea7d4-46d9-40e7-a8dd-ab42d22114b9",
   "metadata": {},
   "outputs": [
    {
     "name": "stdout",
     "output_type": "stream",
     "text": [
      "['raju', 'chandru', 'rosy', 101, 23]\n"
     ]
    }
   ],
   "source": [
    "##2.\n",
    "l1 = ['raju','chandru','rosy',101,23]\n",
    "nl1 = [x for x in l1]\n",
    "print(nl1)"
   ]
  },
  {
   "cell_type": "code",
   "execution_count": 48,
   "id": "fb6b331c-8ef4-451c-9282-64d8b6ec82e3",
   "metadata": {},
   "outputs": [
    {
     "name": "stdout",
     "output_type": "stream",
     "text": [
      "newlist: ['raju', 'rosy', 23]\n"
     ]
    }
   ],
   "source": [
    "l1 = ['raju','chandru','rosy',101,23]\n",
    "nl = []\n",
    "for x in range(len(l1)):\n",
    "    if x%2==0:\n",
    "        nl.append(l1[x])\n",
    "print('newlist:',nl)\n",
    "        "
   ]
  },
  {
   "cell_type": "code",
   "execution_count": 49,
   "id": "cac35890-9265-4cf1-966d-6bda377a97fa",
   "metadata": {},
   "outputs": [
    {
     "name": "stdout",
     "output_type": "stream",
     "text": [
      "['raju', 'rosy', 23]\n"
     ]
    }
   ],
   "source": [
    "l1 = ['raju','chandru','rosy',101,23]\n",
    "nl = [l1[x] for x in range(len(l1)) if x%2==0]\n",
    "print(nl)"
   ]
  },
  {
   "cell_type": "markdown",
   "id": "0091b715-8b02-429d-ab78-f161adaae1b1",
   "metadata": {},
   "source": [
    "### access multiple values from tuple()"
   ]
  },
  {
   "cell_type": "code",
   "execution_count": 53,
   "id": "6ebe1881-ce1f-45f5-92db-1ee87295bf09",
   "metadata": {},
   "outputs": [
    {
     "name": "stdout",
     "output_type": "stream",
     "text": [
      "('chandru', 'rosy', 101, 23, 'ammu', 'raghu')\n"
     ]
    }
   ],
   "source": [
    "tu = 'raju','chandru','rosy',101,23,'ammu','raghu','mani','mani','mani'\n",
    "print(tu[1:7])"
   ]
  },
  {
   "cell_type": "code",
   "execution_count": 54,
   "id": "ec900937-2124-4693-87e9-1e756052bab3",
   "metadata": {},
   "outputs": [
    {
     "name": "stdout",
     "output_type": "stream",
     "text": [
      "10\n"
     ]
    }
   ],
   "source": [
    "### assignment len() count()  index() min() max() sum()\n",
    "print(len(tu))"
   ]
  },
  {
   "cell_type": "code",
   "execution_count": 56,
   "id": "37afaef4-cf6e-4330-af80-b8d4784d2c1a",
   "metadata": {},
   "outputs": [
    {
     "name": "stdout",
     "output_type": "stream",
     "text": [
      "original: ('raju', 'chandru', 'rosy', 101, 23, 'ammu', 'raghu', 'mani', 'mani', 'mani')\n",
      "3\n",
      "after counting: ('raju', 'chandru', 'rosy', 101, 23, 'ammu', 'raghu', 'mani', 'mani', 'mani')\n"
     ]
    }
   ],
   "source": [
    "## count()\n",
    "print('original:',tu)\n",
    "print(tu.count('mani'))\n",
    "print('after counting:',tu)"
   ]
  },
  {
   "cell_type": "code",
   "execution_count": 61,
   "id": "dd510f78-1080-460c-bb44-af524fddc494",
   "metadata": {},
   "outputs": [
    {
     "name": "stdout",
     "output_type": "stream",
     "text": [
      "7\n",
      "7\n"
     ]
    }
   ],
   "source": [
    "## index()\n",
    "tu = 'raju','chandru','rosy',101,23,'ammu','raghu','mani','mani','mani'\n",
    "print(tu.index('mani'))\n",
    "print(tu.index(\"mani\",0))\n"
   ]
  },
  {
   "cell_type": "code",
   "execution_count": 64,
   "id": "2d549a89-5ef0-44de-8a95-8eeeac8a2e56",
   "metadata": {},
   "outputs": [
    {
     "name": "stdout",
     "output_type": "stream",
     "text": [
      "100\n",
      "500\n",
      "800\n"
     ]
    }
   ],
   "source": [
    "## min() max() sum()\n",
    "l = [100,200,500]\n",
    "print(min(l))\n",
    "\n",
    "print(max(l))\n",
    "\n",
    "print(sum(l))"
   ]
  },
  {
   "cell_type": "code",
   "execution_count": 68,
   "id": "5d950354-55ac-4f8f-9cec-9a540c459174",
   "metadata": {},
   "outputs": [
    {
     "name": "stdout",
     "output_type": "stream",
     "text": [
      "('raju', 'chandru', 'rosy', 101, 23, 'ammu', 'raghu', 'mani', 'mani', 'mani')\n",
      "7\n",
      "8\n",
      "9\n"
     ]
    }
   ],
   "source": [
    "## which which places mani is present in this data using position()\n",
    "print(tu)\n",
    "p = 0\n",
    "for i in tu:\n",
    "    if i==\"mani\":\n",
    "        print(p)\n",
    "    p += 1\n"
   ]
  },
  {
   "cell_type": "code",
   "execution_count": 71,
   "id": "b7499ee6-013f-4788-a07f-0dd452bc244a",
   "metadata": {},
   "outputs": [
    {
     "name": "stdout",
     "output_type": "stream",
     "text": [
      "('raju', 'chandru', 'rosy', 101, 23, 'ammu', 'raghu', 'mani', 'mani', 'mani')\n",
      "count of mani: 3\n"
     ]
    }
   ],
   "source": [
    "## how many times mani is present in this data using count()\n",
    "print(tu)\n",
    "c = 0\n",
    "for i in tu:\n",
    "    if i==\"mani\":\n",
    "        c += 1\n",
    "print(\"count of mani:\",c)\n",
    "        \n",
    "    "
   ]
  },
  {
   "cell_type": "code",
   "execution_count": 2,
   "id": "fb0280dc-1edb-438d-b638-416841791b5c",
   "metadata": {},
   "outputs": [
    {
     "name": "stdout",
     "output_type": "stream",
     "text": [
      "['mani'] <class 'list'>\n",
      "['u', 'm', 'a'] <class 'list'>\n",
      "() <class 'tuple'>\n"
     ]
    }
   ],
   "source": [
    "l1 = ['mani']\n",
    "print(l1,type(l1))\n",
    "l2 = list('uma')\n",
    "print(l2,type(l2))\n",
    "l3 = ()\n",
    "print(l3,type(l3))"
   ]
  },
  {
   "cell_type": "code",
   "execution_count": 6,
   "id": "f91c97b0-d435-4ebc-8255-b9563fc29751",
   "metadata": {},
   "outputs": [
    {
     "name": "stdout",
     "output_type": "stream",
     "text": [
      "['chandru', 101]\n"
     ]
    }
   ],
   "source": [
    "l1 = ['raju','chandru','rosy',101,23]\n",
    "oddvalues = l1[1::2]\n",
    "print(oddvalues)"
   ]
  },
  {
   "cell_type": "markdown",
   "id": "42038cf5-80ff-4b2b-8498-ab9cce1dbe51",
   "metadata": {},
   "source": [
    "### exercises"
   ]
  },
  {
   "cell_type": "code",
   "execution_count": 2,
   "id": "61071c93-f038-41c0-b32c-8f5f44ef2f39",
   "metadata": {},
   "outputs": [
    {
     "name": "stdout",
     "output_type": "stream",
     "text": [
      "HELLO WORLD\n"
     ]
    }
   ],
   "source": [
    "txt = \"Hello World\"\n",
    "txt = txt.upper()\n",
    "print(txt.upper())"
   ]
  },
  {
   "cell_type": "code",
   "execution_count": 5,
   "id": "401b4e6c-5af4-41ed-99bd-562a92c6a05e",
   "metadata": {},
   "outputs": [
    {
     "ename": "SyntaxError",
     "evalue": "invalid syntax. Perhaps you forgot a comma? (3258982695.py, line 2)",
     "output_type": "error",
     "traceback": [
      "\u001b[1;36m  Cell \u001b[1;32mIn[5], line 2\u001b[1;36m\u001b[0m\n\u001b[1;33m    print(a[])\u001b[0m\n\u001b[1;37m          ^\u001b[0m\n\u001b[1;31mSyntaxError\u001b[0m\u001b[1;31m:\u001b[0m invalid syntax. Perhaps you forgot a comma?\n"
     ]
    }
   ],
   "source": [
    "a = \"welome to python classes\"\n",
    "print(a[])"
   ]
  },
  {
   "cell_type": "code",
   "execution_count": 6,
   "id": "e012eeb0-b752-455f-9130-98d725843dbb",
   "metadata": {},
   "outputs": [
    {
     "name": "stdout",
     "output_type": "stream",
     "text": [
      "welome to python classes []\n"
     ]
    }
   ],
   "source": [
    "a = \"welome to python classes\"\n",
    "print(a,[])"
   ]
  },
  {
   "cell_type": "code",
   "execution_count": 7,
   "id": "1be75d81-3c93-41dc-9532-409d77580921",
   "metadata": {},
   "outputs": [
    {
     "name": "stdout",
     "output_type": "stream",
     "text": [
      "welome to python classes\n",
      "3\n",
      "1\n",
      "0\n"
     ]
    }
   ],
   "source": [
    " #count(value,startIndex,stopIndex)-  returns the number of occurrences of a substring.\n",
    "#method overloading\n",
    "s = \"welome to python classes\"\n",
    "print(s)\n",
    "print(s.count('o'))\n",
    "print(s.count('o',10))\n",
    "print(s.count('o',10,13)) #10-12"
   ]
  },
  {
   "cell_type": "code",
   "execution_count": 8,
   "id": "b037bd27-ac1a-4a72-b807-3619425881c1",
   "metadata": {},
   "outputs": [
    {
     "name": "stdout",
     "output_type": "stream",
     "text": [
      "3\n",
      "8\n",
      "14\n"
     ]
    },
    {
     "ename": "ValueError",
     "evalue": "substring not found",
     "output_type": "error",
     "traceback": [
      "\u001b[1;31m---------------------------------------------------------------------------\u001b[0m",
      "\u001b[1;31mValueError\u001b[0m                                Traceback (most recent call last)",
      "Cell \u001b[1;32mIn[8], line 6\u001b[0m\n\u001b[0;32m      4\u001b[0m \u001b[38;5;28mprint\u001b[39m(s\u001b[38;5;241m.\u001b[39mindex(\u001b[38;5;124m'\u001b[39m\u001b[38;5;124mo\u001b[39m\u001b[38;5;124m'\u001b[39m,\u001b[38;5;241m5\u001b[39m))\n\u001b[0;32m      5\u001b[0m \u001b[38;5;28mprint\u001b[39m(s\u001b[38;5;241m.\u001b[39mindex(\u001b[38;5;124m'\u001b[39m\u001b[38;5;124mo\u001b[39m\u001b[38;5;124m'\u001b[39m,\u001b[38;5;241m11\u001b[39m))\n\u001b[1;32m----> 6\u001b[0m \u001b[38;5;28mprint\u001b[39m(s\u001b[38;5;241m.\u001b[39mindex(\u001b[38;5;124m'\u001b[39m\u001b[38;5;124mz\u001b[39m\u001b[38;5;124m'\u001b[39m))\n",
      "\u001b[1;31mValueError\u001b[0m: substring not found"
     ]
    }
   ],
   "source": [
    "### index() - returns the index of the first occurrence of a substring.\n",
    "#index()\n",
    "print(s.index('o'))\n",
    "print(s.index('o',5))\n",
    "print(s.index('o',11))\n",
    "print(s.index('z')) #non-existing"
   ]
  },
  {
   "cell_type": "code",
   "execution_count": 9,
   "id": "019735e4-8294-4ab5-9de2-30379ede80db",
   "metadata": {},
   "outputs": [
    {
     "name": "stdout",
     "output_type": "stream",
     "text": [
      "3\n",
      "8\n",
      "14\n",
      "-1\n"
     ]
    }
   ],
   "source": [
    "#find() - returns the index of the first occurrence of a substring. If the substring is not found, it returns -1.\n",
    "print(s.find('o'))\n",
    "print(s.find('o',5))\n",
    "print(s.find('o',11))\n",
    "print(s.find('z')) #non-existing"
   ]
  },
  {
   "cell_type": "markdown",
   "id": "a65dffbc-9d5f-40f0-9c2a-59ad6cb045ad",
   "metadata": {},
   "source": [
    "### Polymorphism:"
   ]
  },
  {
   "cell_type": "raw",
   "id": "fcc5a786-3a53-4b7f-95b6-251c49775831",
   "metadata": {},
   "source": [
    "Polymorphism:\n",
    "\n",
    "Polymorphism is the ability of an object to take on multiple forms. This can be achieved through method overriding or method overloading.\n",
    "\n",
    "Types of Polymorphism:\n",
    "\n",
    "- Method Overriding: When a subclass provides a different implementation of a method that is already defined in its superclass.\n",
    "- Method Overloading: When multiple methods with the same name can be defined, but with different parameter lists. (Note: Python does not support method overloading in the classical sense, but it can be achieved using default arguments or variable arguments.)\n"
   ]
  },
  {
   "cell_type": "markdown",
   "id": "17c0da79-dfb9-4884-a332-70a3b941ae73",
   "metadata": {},
   "source": [
    "### forms"
   ]
  },
  {
   "cell_type": "raw",
   "id": "b42f54f0-7301-4f8a-9d28-9e895ab260d3",
   "metadata": {},
   "source": [
    "Forms in Polymorphism:\n",
    "\n",
    "In the context of polymorphism, \"forms\" refers to the different ways an object or a method can behave or be implemented.\n",
    "\n",
    "Example:\n",
    "\n",
    "- A Shape object can take the form of a Circle, Rectangle, or Triangle, each with its own implementation of the area() method.\n",
    "- A print() function can take the form of printing a string, integer, or object, each with its own representation."
   ]
  },
  {
   "cell_type": "markdown",
   "id": "98eefad7-eb4d-4784-b3bd-919ab3d96295",
   "metadata": {},
   "source": [
    "### • 2types: overloading(operator, method), method overriding"
   ]
  },
  {
   "cell_type": "code",
   "execution_count": 10,
   "id": "5a5c6236-ed59-479a-abe5-da4c400e2796",
   "metadata": {},
   "outputs": [
    {
     "name": "stdout",
     "output_type": "stream",
     "text": [
      "99\n",
      "SaiPriya\n"
     ]
    }
   ],
   "source": [
    "## operator overloading\n",
    "print(90+9) #addition\n",
    "print(\"Sai\"+\"Priya\")\n"
   ]
  },
  {
   "cell_type": "code",
   "execution_count": 11,
   "id": "87b2f15d-c1d1-4d26-a41e-44248a43fec5",
   "metadata": {},
   "outputs": [
    {
     "name": "stdout",
     "output_type": "stream",
     "text": [
      " \n",
      "y\n"
     ]
    }
   ],
   "source": [
    "#min()\n",
    "s = \"pytHon Classes @12:15pm\"\n",
    "print(min(s))\n",
    "print(max(s))"
   ]
  },
  {
   "cell_type": "raw",
   "id": "9cad1d88-1e00-43ef-a825-8aa4d187416f",
   "metadata": {},
   "source": [
    "#s = \"pytHon Classes @12:15pm\"\n",
    "print(min(s))  # Output: ' '\n",
    "print(max(s))  # Output: 'y'"
   ]
  },
  {
   "cell_type": "raw",
   "id": "2eb38b59-1bd0-401f-a15c-7e0d5d6960a5",
   "metadata": {},
   "source": [
    "- min(s): Returns the character with the smallest ASCII value in the string. In this case, it's a space (' ') which has an ASCII value of 32.\n",
    "- max(s): Returns the character with the largest ASCII value in the string. In this case, it's 'y' which has an ASCII value of 121.\n"
   ]
  },
  {
   "cell_type": "raw",
   "id": "d7d6ff98-d734-410d-bdc8-91f6649ae977",
   "metadata": {},
   "source": [
    "- Space (' '): 32\n",
    "- Digits (0-9): 48-57\n",
    "- Uppercase letters (A-Z): 65-90\n",
    "- Lowercase letters (a-z): 97-122"
   ]
  },
  {
   "cell_type": "code",
   "execution_count": 13,
   "id": "347c8012-3fbe-4a05-9130-5dd479e97cec",
   "metadata": {},
   "outputs": [
    {
     "name": "stdout",
     "output_type": "stream",
     "text": [
      "65\n",
      "90\n"
     ]
    }
   ],
   "source": [
    "## ord()\n",
    "#A-Z - 65-90\n",
    "print(ord('A'))                   # print(ord('A'))  # Output: 65\n",
    "                               # print(ord('Z'))  # Output: 90\n",
    "print(ord('Z'))"
   ]
  },
  {
   "cell_type": "code",
   "execution_count": 14,
   "id": "03b6f77a-a477-4628-9864-d8f19f5dd2a0",
   "metadata": {},
   "outputs": [
    {
     "name": "stdout",
     "output_type": "stream",
     "text": [
      "97\n",
      "122\n"
     ]
    }
   ],
   "source": [
    " #a-z - 97-122\n",
    "print(ord('a'))\n",
    "print(ord('z'))"
   ]
  },
  {
   "cell_type": "raw",
   "id": "c75cee4f-2aca-436c-8ea3-00005011508a",
   "metadata": {},
   "source": [
    "##The ord() function returns the ASCII value of a character.\n",
    "#print(ord('a'))  # Output: 97\n",
    "#print(ord('z'))  # Output: 122"
   ]
  },
  {
   "cell_type": "code",
   "execution_count": 16,
   "id": "f62edd06-7baf-44c9-a7bf-be22981913fb",
   "metadata": {},
   "outputs": [
    {
     "name": "stdout",
     "output_type": "stream",
     "text": [
      "[ \\ ] ^ _ ` "
     ]
    }
   ],
   "source": [
    "#91-96 - chr()\n",
    "for i in range(91, 97):\n",
    "    print(chr(i),end=\" \")"
   ]
  },
  {
   "cell_type": "raw",
   "id": "979acff9-d88a-4792-bcd8-a676319de9bd",
   "metadata": {},
   "source": [
    "- 91: [\n",
    "- 92: \\\n",
    "- 93: ]\n",
    "- 94: ^\n",
    "- 95: _\n",
    "- 96: `"
   ]
  },
  {
   "cell_type": "code",
   "execution_count": 17,
   "id": "43de55b1-dc78-44a5-a8ff-3f8ef61e0876",
   "metadata": {},
   "outputs": [
    {
     "name": "stdout",
     "output_type": "stream",
     "text": [
      "48\n",
      "57\n"
     ]
    }
   ],
   "source": [
    "#print(ord('0'))  # Output: 48\n",
    "#print(ord('9'))  # Output: 57\n",
    "#Digits ASCII Range:\n",
    "#0-9: 48-57\n",
    "\n",
    "#0-9 - 48 - 57\n",
    "print(ord('0'))\n",
    "print(ord('9'))"
   ]
  },
  {
   "cell_type": "code",
   "execution_count": 18,
   "id": "86c7aa9b-3bf7-4770-a3ed-c7975e693245",
   "metadata": {},
   "outputs": [
    {
     "name": "stdout",
     "output_type": "stream",
     "text": [
      ": ; < = > ? @ "
     ]
    }
   ],
   "source": [
    "#58-64\n",
    "for i in range(58,65):\n",
    "    print(chr(i),end=\" \")"
   ]
  },
  {
   "cell_type": "code",
   "execution_count": 5,
   "id": "681ec1b7-c758-491d-97ee-b218f921d6a2",
   "metadata": {},
   "outputs": [
    {
     "name": "stdout",
     "output_type": "stream",
     "text": [
      "['mani', 'uma', 'mani', 'uma', 'mani', 'uma'] ['mani', 'uma', 'mani', 'uma', 'mani', 'uma'] "
     ]
    }
   ],
   "source": [
    "l = [\"mani\",\"uma\"]\n",
    "for i in l:\n",
    "    print(l*3,end=\" \")"
   ]
  },
  {
   "cell_type": "code",
   "execution_count": 7,
   "id": "24dd819a-002f-4221-9a01-cfe4677b2046",
   "metadata": {},
   "outputs": [
    {
     "name": "stdout",
     "output_type": "stream",
     "text": [
      "['mani', 'uma']\n"
     ]
    }
   ],
   "source": [
    "l = [\"mani\",\"uma\"]\n",
    "print(l)"
   ]
  },
  {
   "cell_type": "code",
   "execution_count": 9,
   "id": "4e267d33-8cfe-47b6-ae7c-64aa2e7147c1",
   "metadata": {},
   "outputs": [
    {
     "name": "stdout",
     "output_type": "stream",
     "text": [
      "['mani', 'uma'] ['mani', 'uma'] "
     ]
    }
   ],
   "source": [
    "l = [\"mani\",\"uma\"]\n",
    "for i in l:\n",
    "    print(l*1,end=\" \")"
   ]
  },
  {
   "cell_type": "code",
   "execution_count": 10,
   "id": "21cdcfd5-761a-4a74-a95b-02efabf726d5",
   "metadata": {},
   "outputs": [
    {
     "name": "stdout",
     "output_type": "stream",
     "text": [
      "pytHOn\n",
      "PYTHON\n",
      "python\n"
     ]
    }
   ],
   "source": [
    "py = \"pytHOn\"\n",
    "print(py)\n",
    "x = py.upper()\n",
    "print(x)\n",
    "x1 = py.lower()\n",
    "print(x1)"
   ]
  },
  {
   "cell_type": "code",
   "execution_count": 15,
   "id": "11f8d763-109f-4092-b70f-f83e4cbcf390",
   "metadata": {},
   "outputs": [
    {
     "name": "stdout",
     "output_type": "stream",
     "text": [
      "maniuma\n"
     ]
    }
   ],
   "source": [
    "o =[\"mani\",\"uma\"]\n",
    "o1 = \"\".join(o)\n",
    "print(o1)"
   ]
  },
  {
   "cell_type": "code",
   "execution_count": 17,
   "id": "9aa3981d-d697-41bf-b32e-2f0c118fb8fc",
   "metadata": {},
   "outputs": [
    {
     "name": "stdout",
     "output_type": "stream",
     "text": [
      "original: {'priya', 'ramya', 'mani', 'diviya'}\n"
     ]
    },
    {
     "ename": "NameError",
     "evalue": "name 'a' is not defined",
     "output_type": "error",
     "traceback": [
      "\u001b[1;31m---------------------------------------------------------------------------\u001b[0m",
      "\u001b[1;31mNameError\u001b[0m                                 Traceback (most recent call last)",
      "Cell \u001b[1;32mIn[17], line 4\u001b[0m\n\u001b[0;32m      2\u001b[0m \u001b[38;5;28mprint\u001b[39m(\u001b[38;5;124m\"\u001b[39m\u001b[38;5;124moriginal:\u001b[39m\u001b[38;5;124m\"\u001b[39m,a)\n\u001b[0;32m      3\u001b[0m \u001b[38;5;28;01mdel\u001b[39;00m a\n\u001b[1;32m----> 4\u001b[0m \u001b[38;5;28mprint\u001b[39m(\u001b[38;5;124m\"\u001b[39m\u001b[38;5;124mAfter removing,set:\u001b[39m\u001b[38;5;124m\"\u001b[39m,a)\n",
      "\u001b[1;31mNameError\u001b[0m: name 'a' is not defined"
     ]
    }
   ],
   "source": [
    "a = {\"mani\",\"priya\",\"ramya\",\"diviya\"}\n",
    "print(\"original:\",a)\n",
    "del a\n",
    "print(\"After removing,set:\",a)"
   ]
  },
  {
   "cell_type": "code",
   "execution_count": null,
   "id": "e553c51a-e06d-4223-a78c-a81b0282cbf5",
   "metadata": {},
   "outputs": [],
   "source": []
  }
 ],
 "metadata": {
  "kernelspec": {
   "display_name": "Python [conda env:base] *",
   "language": "python",
   "name": "conda-base-py"
  },
  "language_info": {
   "codemirror_mode": {
    "name": "ipython",
    "version": 3
   },
   "file_extension": ".py",
   "mimetype": "text/x-python",
   "name": "python",
   "nbconvert_exporter": "python",
   "pygments_lexer": "ipython3",
   "version": "3.13.5"
  }
 },
 "nbformat": 4,
 "nbformat_minor": 5
}
